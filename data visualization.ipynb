{
 "cells": [
  {
   "cell_type": "code",
   "execution_count": null,
   "id": "86d35e04",
   "metadata": {},
   "outputs": [],
   "source": [
    "cd F:\\522-project"
   ]
  },
  {
   "cell_type": "code",
   "execution_count": null,
   "id": "0cb7fb6a",
   "metadata": {},
   "outputs": [],
   "source": [
    "# import libraries\n",
    "import numpy as np\n",
    "import matplotlib.pyplot as plt\n",
    "import pandas as pd\n",
    "import seaborn as sns\n",
    "%matplotlib inline"
   ]
  },
  {
   "cell_type": "code",
   "execution_count": null,
   "id": "46afadce",
   "metadata": {},
   "outputs": [],
   "source": [
    "data= pd.read_csv(\"deaths/kill_match_stats_final_0.csv\")\n",
    "# data.head()\n",
    "\n",
    "map_img = plt.imread('erangel.jpg')\n",
    "fig, ax = plt.subplots(figsize=(12, 12))\n",
    "ax.imshow(map_img);"
   ]
  },
  {
   "cell_type": "code",
   "execution_count": null,
   "id": "d9321974",
   "metadata": {},
   "outputs": [],
   "source": [
    "from scipy.ndimage.filters import gaussian_filter\n",
    "import matplotlib.cm as cm\n",
    "from matplotlib.colors import Normalize"
   ]
  },
  {
   "cell_type": "code",
   "execution_count": null,
   "id": "1d8024af",
   "metadata": {},
   "outputs": [],
   "source": [
    "def heatmap(x, y, s, bins=100):\n",
    "    heatmap, xedges, yedges = np.histogram2d(x, y, bins=bins)\n",
    "    heatmap = gaussian_filter(heatmap, sigma=s)\n",
    "\n",
    "    extent = [xedges[0], xedges[-1], yedges[0], yedges[-1]]\n",
    "    return heatmap.T, extent"
   ]
  },
  {
   "cell_type": "code",
   "execution_count": null,
   "id": "540c5e8a",
   "metadata": {},
   "outputs": [],
   "source": [
    "def getHeatMapByTime(kill_data, start_time, end_time, erangelOrMiramar):\n",
    "    \n",
    "    data_detailed = kill_data.loc[:, ['killer_position_x','killer_position_y','time', 'map','victim_position_x', 'victim_position_y']]\n",
    "    \n",
    "    #different map\n",
    "    if(erangelOrMiramar == 'Erangel'):\n",
    "        data_detailed = data_detailed[data_detailed.apply(lambda row: row['map'] == 'ERANGEL' , axis=1)]\n",
    "        bg = mpimg.imread('erangel.jpg')\n",
    "    else:\n",
    "        data_detailed = data_detailed[data_detailed.apply(lambda row: row['map'] == 'MIRAMAR' , axis=1)]\n",
    "        bg = mpimg.imread('miramar.jpg')\n",
    "        \n",
    "    data_detailed = data_detailed.dropna()\n",
    "    data_detailed = data_detailed[data_detailed.apply(lambda row: row['victim_position_x'] > 0, axis=1)]\n",
    "    data_detailed = data_detailed[data_detailed.apply(lambda row: row['time'] > start_time and row['time'] > end_time, axis=1)]\n",
    "    \n",
    "    plot_data_er = np.vstack([data_detailed[['victim_position_x', 'victim_position_y']].values, \n",
    "                          data_detailed[['killer_position_x', 'killer_position_y']].values])\n",
    "    \n",
    "#     rescale data\n",
    "    if(erangelOrMiramar == 'Erangel'):\n",
    "        plot_data_er = plot_data_er*4096/800000\n",
    "    else:\n",
    "        plot_data_er = plot_data_er*1000/800000\n",
    "   \n",
    "    \n",
    "#     bg = mpimg.imread('erangel.jpg')\n",
    "    hmap, extent = heatmap(plot_data_er[:,0], plot_data_er[:,1], 1.5)\n",
    "    alphas = np.clip(Normalize(0, hmap.max(), clip=True)(hmap)*1.5, 0.0, 1.)\n",
    "    colors = Normalize(0, hmap.max(), clip=True)(hmap)\n",
    "    colors = cm.Reds(colors)\n",
    "    colors[..., -1] = alphas\n",
    "\n",
    "    fig, ax = plt.subplots(figsize=(24,24))\n",
    "    \n",
    "    #notice that different map image has different map resolution\n",
    "    #same as file name\n",
    "    if(erangelOrMiramar == 'Erangel'):\n",
    "        ax.set_xlim(0, 4096); ax.set_ylim(0, 4096)\n",
    "        filename = 'erangel_'+str(start_time)+'_to_'+str(end_time)+'.png'\n",
    "    else:\n",
    "        ax.set_xlim(0, 1000); ax.set_ylim(0, 1000)\n",
    "        filename = 'miramar_'+str(start_time)+'_to_'+str(end_time)+'.png'\n",
    "            \n",
    "    ax.imshow(bg)\n",
    "    ax.imshow(colors, extent=extent, origin='lower', cmap=cm.Reds, alpha=0.9)\n",
    "    #plt.scatter(plot_data_er[:,0], plot_data_er[:,1])\n",
    "    plt.gca().invert_yaxis()\n",
    "    \n",
    "    plt.savefig(filename)\n",
    "    return"
   ]
  },
  {
   "cell_type": "code",
   "execution_count": null,
   "id": "e014f2b3",
   "metadata": {},
   "outputs": [],
   "source": [
    "# from scipy.misc.pilutil import imread\n",
    "import matplotlib.image as mpimg"
   ]
  },
  {
   "cell_type": "code",
   "execution_count": null,
   "id": "4eca366f",
   "metadata": {},
   "outputs": [],
   "source": [
    "data_sample = data.sample(frac=0.4)\n",
    "\n",
    "# getHeatMapByTime(data_sample, 0, 60, 'Erangel')\n",
    "\n",
    "\n",
    "# getHeatMapByTime(data_sample, 0, 60)\n",
    "# getHeatMapByTime(data_sample, 61, 120, 'miramar')\n",
    "# getHeatMapByTime(data_sample, 121, 180, 'miramar')\n",
    "# getHeatMapByTime(data_sample, 181, 300, 'miramar')\n",
    "# getHeatMapByTime(data_sample, 301, 600)\n",
    "# getHeatMapByTime(data_sample, 601, 900)\n",
    "# getHeatMapByTime(data_sample, 901, 1200)\n",
    "# getHeatMapByTime(data_sample, 1201, 1500)\n",
    "# getHeatMapByTime(data_sample, 1501, 1800)\n",
    "\n",
    "getHeatMapByTime(data_sample, 0, 60, 'Miramar')\n",
    "getHeatMapByTime(data_sample, 61, 120, 'Miramar')\n",
    "getHeatMapByTime(data_sample, 121, 180, 'Miramar')\n",
    "getHeatMapByTime(data_sample, 181, 300, 'Miramar')\n",
    "getHeatMapByTime(data_sample, 301, 600, 'Miramar')\n",
    "getHeatMapByTime(data_sample, 601, 900, 'Miramar')\n",
    "getHeatMapByTime(data_sample, 901, 1200, 'Miramar')\n",
    "getHeatMapByTime(data_sample, 1201, 1500, 'Miramar')\n",
    "getHeatMapByTime(data_sample, 1501, 1800, 'Miramar')"
   ]
  },
  {
   "cell_type": "code",
   "execution_count": null,
   "id": "6c7b6953",
   "metadata": {},
   "outputs": [],
   "source": [
    "import matplotlib.pyplot as plt\n",
    "from matplotlib.gridspec import GridSpec\n",
    "from skimage.io import imread"
   ]
  },
  {
   "cell_type": "code",
   "execution_count": null,
   "id": "378911b7",
   "metadata": {},
   "outputs": [],
   "source": [
    "#function of getting a n by n image\n",
    "def getNByN(row_or_col, image_names, sub_names, save):\n",
    "    if row_or_col * row_or_col != len(image_names) or len(image_names) != len(sub_names):\n",
    "        return \"Incompatible input\"\n",
    "    \n",
    "    fig = plt.figure(figsize=(8, 8))\n",
    "    gs = GridSpec(row_or_col, row_or_col, figure=fig)\n",
    "    \n",
    "    # display the images in the subplots\n",
    "    for curRow in range(row_or_col):\n",
    "        for curCol in range(row_or_col):\n",
    "            curImg =mpimg.imread(image_names[curRow*row_or_col+curCol])\n",
    "\n",
    "            ax = fig.add_subplot(gs[curRow, curCol])\n",
    "            \n",
    "            ax.imshow(curImg)\n",
    "            ax.set_title(sub_names[curRow*row_or_col+curCol])\n",
    "    \n",
    "    \n",
    "    if(save):\n",
    "        filename = 'erangel_'+str(row_or_col)+'_by_'+str(row_or_col)+'.png'\n",
    "        plt.savefig(filename)\n",
    "#     fig.tight_layout()\n",
    "\n",
    "    # show the plot\n",
    "    plt.show()\n",
    "    return"
   ]
  },
  {
   "cell_type": "code",
   "execution_count": null,
   "id": "a0b7ebb8",
   "metadata": {},
   "outputs": [],
   "source": [
    "#function of getting a n by n image, ver2\n",
    "def getNByN2(row_or_col, image_names, sub_names, save):\n",
    "    if row_or_col * row_or_col != len(image_names) or len(image_names) != len(sub_names):\n",
    "        return \"Incompatible input\"\n",
    "    \n",
    "    # Create the NxN subplots\n",
    "    fig, axes = plt.subplots(row_or_col, row_or_col, figsize=(11, 11))\n",
    "    \n",
    "#     fig, axes = plt.subplots(row_or_col, row_or_col, figsize=(11, 11), width_ratios = [0.33, 0.33, 0.33], height_ratios = [0.33, 0.33, 0.33])\n",
    "    \n",
    "    # Remove the space between subplots\n",
    "    fig.subplots_adjust(hspace=0, wspace=0)\n",
    "    \n",
    "    # display the images in the subplots\n",
    "    for curRow in range(row_or_col):\n",
    "        for curCol in range(row_or_col):\n",
    "#             curImg =mpimg.imread(image_names[curRow*row_or_col+curCol])\n",
    "\n",
    "# #             ax = fig.add_subplot(gs[curRow, curCol])\n",
    "#             fig.subplots_adjust(hspace=0, wspace=0)\n",
    "            \n",
    "#             ax.imshow(curImg)\n",
    "# #             ax.set_title(sub_names[curRow*row_or_col+curCol])\n",
    "            \n",
    "#             ax.set_xticks([])\n",
    "#             ax.set_yticks([])\n",
    "#             ax.axis('off')\n",
    "            \n",
    "            # Plot the data in the current subplot\n",
    "            axes[curRow, curCol].imshow(mpimg.imread(image_names[curRow*row_or_col+curCol]))\n",
    "\n",
    "            # Remove the x and y axis labels\n",
    "            axes[curRow, curCol].set_xticks([])\n",
    "            axes[curRow, curCol].set_yticks([])\n",
    "\n",
    "            # Remove the frame around each subplot\n",
    "            axes[curRow, curCol].axis('off')\n",
    "            \n",
    "            # Set legend of sub images\n",
    "            axes[curRow, curCol].set_title(sub_names[curRow*row_or_col+curCol])\n",
    "    \n",
    "    if(save):\n",
    "        filename = 'erangel_'+str(row_or_col)+'_by_'+str(row_or_col)+'.png'\n",
    "        plt.savefig(filename)\n",
    "#     fig.tight_layout()\n",
    "\n",
    "    # tight display subplots\n",
    "    plt.tight_layout()\n",
    "    \n",
    "    # show the plot\n",
    "    plt.show()\n",
    "    return"
   ]
  },
  {
   "cell_type": "code",
   "execution_count": null,
   "id": "3e1b1416",
   "metadata": {},
   "outputs": [],
   "source": [
    "images = ['erangel_0_to_60.png', 'erangel_61_to_120.png', 'erangel_121_to_180.png',\n",
    "         'erangel_181_to_300.png','erangel_301_to_600.png','erangel_601_to_900.png',\n",
    "         'erangel_901_to_1200.png','erangel_1201_to_1500.png','erangel_1501_to_1800.png']\n",
    "\n",
    "subs = ['test1','test2','test3',\n",
    "       'test4','test5','test6',\n",
    "       'test7','test8','test9']"
   ]
  },
  {
   "cell_type": "code",
   "execution_count": null,
   "id": "30e22c50",
   "metadata": {},
   "outputs": [],
   "source": [
    "print(3*3 != len(images) or len(images) != len(subs))"
   ]
  },
  {
   "cell_type": "code",
   "execution_count": null,
   "id": "6ac5bd5c",
   "metadata": {},
   "outputs": [],
   "source": [
    "getNByN(3, images, subs, True)"
   ]
  },
  {
   "cell_type": "code",
   "execution_count": null,
   "id": "d1b5a3c5",
   "metadata": {},
   "outputs": [],
   "source": [
    "getNByN2(3, images, subs, False)"
   ]
  }
 ],
 "metadata": {
  "kernelspec": {
   "display_name": "Python 3 (ipykernel)",
   "language": "python",
   "name": "python3"
  },
  "language_info": {
   "codemirror_mode": {
    "name": "ipython",
    "version": 3
   },
   "file_extension": ".py",
   "mimetype": "text/x-python",
   "name": "python",
   "nbconvert_exporter": "python",
   "pygments_lexer": "ipython3",
   "version": "3.11.5"
  }
 },
 "nbformat": 4,
 "nbformat_minor": 5
}
